{
 "cells": [
  {
   "cell_type": "markdown",
   "metadata": {},
   "source": [
    "# Linear Algebra with Python and NumPy (II)\n",
    "\n",
    "\n",
    "<img alt=\"svd algorithm\" src=\"svd_algorithm_1x1.png\" style=\"float:right; border-radius:10px;\"/>\n",
    "This post is a continuation of the previous post on using Python and NumPy package for linear algebra.\n",
    "\n",
    "\n",
    "We will briefly cover topics such as:\n",
    "\n",
    "- Solving systems of linear equations\n",
    "- Eigenvalues, eigenvectors and matrix spectral decomposition\n",
    "- Singular value decomposition (SVD)\n",
    "- Solving overdetermined linear systems using method of least-squares\n",
    "- Moore-Penrose pseudoinverse matrix\n",
    "\n",
    "<br>\n",
    "\n",
    "<!-- TEASER_END -->"
   ]
  },
  {
   "cell_type": "code",
   "execution_count": 1,
   "metadata": {
    "collapsed": false
   },
   "outputs": [],
   "source": [
    "from numpy import *   # Import NumPy package which enables all the fun with algebra"
   ]
  },
  {
   "cell_type": "markdown",
   "metadata": {},
   "source": [
    "## 1 Solving Linear Systems with Regular Matrix\n",
    "\n",
    "Assume we have a system of linear algebralic equations given by\n",
    "\n",
    "$$ \\mathbf{A} \\mathbf{x} = \\mathbf{b}, $$\n",
    "\n",
    "where $\\mathbf{A} \\in \\mathbb{C}^{n\\times n}$ and $\\mathbf{b} \\in \\mathbb{C}^{n}$.\n",
    "To find a solution for $\\mathbf{x}$, we can use method `numpy.linalg.solve`. As we surely know from algebra classes, an exact solution exists if and only if $\\mathbf{A}$ is a full-rank square matrix (also called regular matrix), which is also required by the mentioned solving method."
   ]
  },
  {
   "cell_type": "markdown",
   "metadata": {
    "collapsed": true
   },
   "source": [
    "*Example:* Solve a system of linear equations given by\n",
    "\n",
    "$$ \\mathbf{A} = \n",
    "\\left(\\begin{array}{r}\n",
    "  0 & 2 & 1 \\\\\n",
    "  3 & -1 & 2  \\\\\n",
    "  1 & -1 & 1 \n",
    "\\end{array}\\right),\n",
    "\\quad\n",
    "\\mathbf{b} = \n",
    "\\left(\\begin{array}{r}\n",
    "  2 \\\\\n",
    "  -3  \\\\\n",
    "  -3 \n",
    "\\end{array}\\right),\n",
    "\\quad\n",
    "\\mathbf{x} = \n",
    "\\begin{pmatrix}\n",
    "  x_1 \\\\\n",
    "  x_2  \\\\\n",
    "  x_3\n",
    "\\end{pmatrix}.$$"
   ]
  },
  {
   "cell_type": "code",
   "execution_count": 2,
   "metadata": {
    "collapsed": false
   },
   "outputs": [
    {
     "name": "stdout",
     "output_type": "stream",
     "text": [
      "[[ 0  2  1]\n",
      " [ 3 -1  2]\n",
      " [ 1 -1  1]]\n",
      "rank(A) = 3\n"
     ]
    }
   ],
   "source": [
    "A = matrix('0 2 1; 3 -1 2; 1 -1 1')\n",
    "b = matrix('2; -3; -3')\n",
    "print(A)\n",
    "print('rank(A) =', linalg.matrix_rank(A))   # Verify that A is a full-rank matrix (rank(A) = n)"
   ]
  },
  {
   "cell_type": "code",
   "execution_count": 3,
   "metadata": {
    "collapsed": false
   },
   "outputs": [
    {
     "name": "stdout",
     "output_type": "stream",
     "text": [
      "[[ 1.]\n",
      " [ 2.]\n",
      " [-2.]]\n"
     ]
    }
   ],
   "source": [
    "x = linalg.solve(A,b)   # Get solution for the linear system A*x=b\n",
    "print(x)"
   ]
  },
  {
   "cell_type": "code",
   "execution_count": 4,
   "metadata": {
    "collapsed": false
   },
   "outputs": [
    {
     "name": "stdout",
     "output_type": "stream",
     "text": [
      "[[ 0.]\n",
      " [ 0.]\n",
      " [ 0.]]\n"
     ]
    }
   ],
   "source": [
    "print(b-A*x)    # Verify that x is the valid solution for A*x=b"
   ]
  },
  {
   "cell_type": "markdown",
   "metadata": {},
   "source": [
    "## 2 Eigenvalues and Eigenvectors\n",
    "\n",
    "Assume we have a linear transformation given by a square matrix $\\mathbf{A} \\in \\mathbb{C}^{n\\times n}$. Then matrix $\\mathbf{A}$ has a scalar **_eigenvalue_** $\\lambda$ associated with a non-zero **_eigenvector_** $\\mathbf{v}$ if\n",
    "\n",
    "$$ \\mathbf{A} \\mathbf{v} = \\lambda \\mathbf{v}.$$\n",
    "\n",
    "The obvious geometrical interpretation is such that eigenvectors are vectors not affected by given transformation in the term of rotation, but only stretched (scaled) by associated factor of $\\lambda$. Another fundamental meaning is connected with systems of linear differential equations, but that's another story.\n",
    "\n",
    "If a matrix $\\mathbf{A} \\in \\mathbb{C}^{n\\times n}$ has $n$ linearly independent eigenvectors, then matrix $\\mathbf{A}$ can be factorized as\n",
    "\n",
    "$$ \\mathbf{A} = \\mathbf{U} \\mathbf{D} \\mathbf{U}^H, $$\n",
    "\n",
    "where $\\mathbf{D}$ is a diagonal matrix containing eigenvalues on its diagonal. Columns of $\\mathbf{U}$ are eigenvectors, which makes $\\mathbf{U}$ an unitary matrix. Note that only diagonalizable matrices can be factorized in this way, which is also called **_spectral decomposition_** or **_eigendecomposition_**."
   ]
  },
  {
   "cell_type": "markdown",
   "metadata": {},
   "source": [
    "*Example:* Find eigenvalues and eigenvectors for matrix\n",
    "\n",
    "$$ \\mathbf{A} = \n",
    "\\begin{pmatrix}\n",
    "  2 & 0 & 0 \\\\\n",
    "  0 & 3 & 4  \\\\\n",
    "  0 & 4 & 9 \n",
    "\\end{pmatrix}.$$"
   ]
  },
  {
   "cell_type": "code",
   "execution_count": 5,
   "metadata": {
    "collapsed": false
   },
   "outputs": [
    {
     "name": "stdout",
     "output_type": "stream",
     "text": [
      "Eigenvalues:\n",
      " [ 11.   1.   2.]\n",
      "\n",
      "Eigenvectors:\n",
      " [[ 0.          0.          1.        ]\n",
      " [ 0.4472136   0.89442719  0.        ]\n",
      " [ 0.89442719 -0.4472136   0.        ]]\n"
     ]
    }
   ],
   "source": [
    "A = matrix('2 0 0; 0 3 4; 0 4 9')\n",
    "λ, U = linalg.eig(A)\n",
    "print('Eigenvalues:\\n', λ)\n",
    "print('\\nEigenvectors:\\n', U)"
   ]
  },
  {
   "cell_type": "markdown",
   "metadata": {},
   "source": [
    "Verify that $ \\mathbf{A} \\mathbf{v} - \\lambda \\mathbf{v} = 0$ for each pair of eigenvalue-eigenvector"
   ]
  },
  {
   "cell_type": "code",
   "execution_count": 6,
   "metadata": {
    "collapsed": false
   },
   "outputs": [
    {
     "name": "stdout",
     "output_type": "stream",
     "text": [
      "1.66533453694e-16\n"
     ]
    }
   ],
   "source": [
    "eps = 0\n",
    "for i in range(A.shape[0]):\n",
    "    eps += sum(A*U[:,i] - λ[i]*U[:,i])\n",
    "print(eps)"
   ]
  },
  {
   "cell_type": "markdown",
   "metadata": {},
   "source": [
    "Verify that $\\mathbf{A} = \\mathbf{U} \\mathbf{D} \\mathbf{U}^T $"
   ]
  },
  {
   "cell_type": "code",
   "execution_count": 7,
   "metadata": {
    "collapsed": false
   },
   "outputs": [
    {
     "name": "stdout",
     "output_type": "stream",
     "text": [
      "[[ 2.  0.  0.]\n",
      " [ 0.  3.  4.]\n",
      " [ 0.  4.  9.]]\n"
     ]
    }
   ],
   "source": [
    "print( U * diag(λ) * U.T )"
   ]
  },
  {
   "cell_type": "markdown",
   "metadata": {},
   "source": [
    "## 3 Singular Value Decomposition (SVD)\n",
    "\n",
    "Since the spectral decomposition $ \\mathbf{A} = \\mathbf{U} \\mathbf{D} \\mathbf{U}^H $ exists only for a square, diagonalizable matrix, there is an obvious question if it can be generalized also for matrices of any shape. It can be proven, if we allow two diverse unitary matrices instead of single matrix $\\mathbf{U}$, then such factorization always exists.\n",
    "\n",
    "Assume we have a matrix $\\mathbf{A} \\in \\mathbb{C}^{m\\times n}$, ($m, n \\in \\mathbb{N}$). Then there exists a matrix factorization of $\\mathbf{A}$, called **_singular value decomposition (SVD)_**, of the form\n",
    "\n",
    "$$ \\mathbf{A} = \\mathbf{U} \\mathbf{\\Sigma} \\mathbf{V}^H, $$\n",
    "\n",
    "where $\\mathbf{\\Sigma}$ is a diagonal matrix containing so-called **_singular values_** $\\sigma_1 \\geq \\sigma_2 \\geq \\dots \\geq \\sigma_n \\geq 0$ on its diagonal. Matrices $\\mathbf{U}$, $\\mathbf{V}$ are unitary matrices, that means their columns are orthonormal. The columns of $\\mathbf{U}$ and $\\mathbf{V}$ are called the **_left-singular vectors_** and **_right-singular vectors_** of $\\mathbf{A}$, respectively.\n",
    "\n",
    "Using NumPy package, the SVD decomposition can be computed by method `numpy.linalg.svd`. It returns matrices $\\mathbf{U}$, $\\mathbf{V}^H$ and singular values $\\sigma$ (note that $\\mathbf{V}$ is returned as $\\mathbf{V}^H$ by this method)."
   ]
  },
  {
   "cell_type": "markdown",
   "metadata": {},
   "source": [
    "*Example:* Find singular value decomposition for matrix\n",
    "\n",
    "$$ \\mathbf{A} = \n",
    "\\left(\\begin{array}{r}\n",
    "  14 & 2 \\\\\n",
    "  4 & 22   \\\\\n",
    "  16 & 13 \n",
    "\\end{array}\\right).$$"
   ]
  },
  {
   "cell_type": "code",
   "execution_count": 8,
   "metadata": {
    "collapsed": false
   },
   "outputs": [
    {
     "name": "stdout",
     "output_type": "stream",
     "text": [
      "Singular values σ:\n",
      " [ 30.  15.]\n",
      "\n",
      "Left-singular vectors:\n",
      " [[-0.33333333  0.66666667]\n",
      " [-0.66666667 -0.66666667]\n",
      " [-0.66666667  0.33333333]]\n",
      "\n",
      "Right-singular vectors:\n",
      " [[-0.6  0.8]\n",
      " [-0.8 -0.6]]\n"
     ]
    }
   ],
   "source": [
    "A = matrix('14 2; 4 22; 16 13')\n",
    "U, σ, VH = linalg.svd(A, full_matrices=False)\n",
    "print('Singular values σ:\\n', σ)\n",
    "print('\\nLeft-singular vectors:\\n', U)\n",
    "print('\\nRight-singular vectors:\\n', VH.H)"
   ]
  },
  {
   "cell_type": "markdown",
   "metadata": {},
   "source": [
    "Verify that $\\mathbf{A} = \\mathbf{U} \\mathbf{\\Sigma} \\mathbf{V}^H $"
   ]
  },
  {
   "cell_type": "code",
   "execution_count": 9,
   "metadata": {
    "collapsed": false
   },
   "outputs": [
    {
     "name": "stdout",
     "output_type": "stream",
     "text": [
      "[[ 14.   2.]\n",
      " [  4.  22.]\n",
      " [ 16.  13.]]\n"
     ]
    }
   ],
   "source": [
    "print( U * diag(σ) * VH )"
   ]
  },
  {
   "cell_type": "markdown",
   "metadata": {},
   "source": [
    "## 4 Solving Linear Systems by Method of Least-Squares\n",
    "\n",
    "Consider a system of linear equations $ \\mathbf{A} \\mathbf{x} = \\mathbf{b}$, where $\\mathbf{A} \\in \\mathbb{C}^{m\\times n}$, $\\mathbf{b} \\in \\mathbb{C}^{m}$ and $m > n$. This kind of system is called **_overdetermined_**, because it has more equations than unknowns, thus generally it has no unique solution. However, we can look for the **_least-squares_** solution that minimizes the Euclidean norm of the residuals, that is,\n",
    "\n",
    "$$ \\min_{\\mathbf{x}\\in \\mathbb{C}^n} \\|\\mathbf{b}-\\mathbf{A}\\mathbf{x}\\|. $$"
   ]
  },
  {
   "cell_type": "markdown",
   "metadata": {},
   "source": [
    "### 4.1 Least-squares solution for systems with full-rank matrix\n",
    "\n",
    "In case when $\\mathbf{A}$ is a full-rank matrix, that is $\\mathrm{rank} \\, \\mathbf{A} = \\min(m,n)$, the least-squares solution can be found easily as a solution of linear system\n",
    "\n",
    "$$ \\mathbf{A}^H \\mathbf{A} \\mathbf{x} = \\mathbf{A}^H \\mathbf{b}.$$\n",
    "\n",
    "In such case, $\\mathbf{A}^H \\mathbf{A}$ is a positive-definite Hermitian matrix and the least-squares solution exists and is unique. To get the solution we can use QR or Cholesky decomposition or find the inversion of $\\mathbf{A}^H \\mathbf{A}$ as follows\n",
    "\n",
    "$$  \\mathbf{x} = (\\mathbf{A}^H \\mathbf{A})^{-1} \\mathbf{A}^H \\mathbf{b}.$$"
   ]
  },
  {
   "cell_type": "markdown",
   "metadata": {
    "collapsed": true
   },
   "source": [
    "### 4.2 Least-squares solution for systems with matrix of any rank\n",
    "\n",
    "Lets discuss the most general case where matrix $\\mathbf{A}$ might be rectangular and also its rank might be arbitrary, that is $\\mathrm{rank}\\,\\mathbf{A}>0$. In such case, inverse of $ \\mathbf{A}^H \\mathbf{A}$ does not exists, so we need to develop another solving method. Using singular value decomposition $ \\mathbf{A} = \\mathbf{U} \\mathbf{\\Sigma} \\mathbf{V}^H$, we can find that\n",
    "\n",
    "$$ \\|\\mathbf{b}-\\mathbf{A}\\mathbf{x}\\| = \\|\\mathbf{U}^H\\mathbf{b}-\\mathbf{U}^H\\mathbf{A}\\mathbf{x}\\| =\n",
    "\\|\\mathbf{U}^H\\mathbf{b} - \\mathbf{\\Sigma} \\mathbf{V}^H\\mathbf{x}\\|.$$\n",
    "\n",
    "If we denote\n",
    "\n",
    "$$\\mathbf{c}=\\mathbf{U}^H\\mathbf{b}, \\quad \\mathbf{y}=\\mathbf{V}^H\\mathbf{x},$$\n",
    "\n",
    "we can see that $\\|\\mathbf{b}-\\mathbf{A}\\mathbf{x}\\| $ is minimized if and only if $\\|\\mathbf{c} - \\mathbf{\\Sigma}\\mathbf{y}\\| $ is minimal. This way we have transformed the least-squares problem with matrix $\\mathbf{A}$ and $\\mathbf{b}$  into a problem with diagonal matrix $\\mathbf{\\Sigma}$ and vector $\\mathbf{c}$. Moreover, it is visible that $\\|\\mathbf{c} - \\mathbf{\\Sigma}\\mathbf{y}\\|$ is minimal if and only if $\\mathbf{c} = \\mathbf{\\Sigma}\\mathbf{y}$, thus\n",
    "\n",
    "$$\\mathbf{y} = \\mathbf{\\Sigma}^{-1}\\mathbf{c}.$$\n",
    "\n",
    "Thanks to that we can find least-squares solution for $\\mathbf{x}$ as\n",
    "\n",
    "$$\\mathbf{x} = \\mathbf{V}\\mathbf{y} = \\mathbf{V}\\mathbf{\\Sigma}^{-1}\\mathbf{c} = \\mathbf{V}\\mathbf{\\Sigma}^{-1}\\mathbf{U}^H\\mathbf{b}.$$\n",
    "\n",
    "So, after computing the SVD decomposition we just need to determine the inverse of matrix $\\mathbf{\\Sigma}$. Lets denote $r = \\mathrm{rank}\\,\\mathbf{A}$, then inversion $\\mathbf{\\Sigma}^{-1} \\in \\mathbb{R}^{n\\times n}$ can be found as\n",
    "\n",
    "$$\\mathbf{\\Sigma}^{-1} = \n",
    "\\begin{pmatrix}\n",
    "  \\mathbf{\\tilde{\\Sigma}}^{-1} & \\mathbf{0} \\\\\n",
    "  \\mathbf{0} & \\mathbf{0} \n",
    "\\end{pmatrix},\n",
    "\\quad\n",
    "\\mathbf{\\tilde{\\Sigma}}^{-1} =\n",
    "\\begin{pmatrix}\n",
    "  1/\\sigma_1 & 0 & \\dots & 0 \\\\\n",
    "  0 & 1/\\sigma_2 & \\dots & 0 \\\\\n",
    "  \\vdots & \\vdots & \\ddots & \\vdots \\\\\n",
    "  0    &     0  & \\dots & 1/\\sigma_r\n",
    "\\end{pmatrix}.\n",
    "$$\n",
    "\n",
    "To make things more elegant we can call the expression $\\mathbf{V}\\mathbf{\\Sigma}^{-1}\\mathbf{U}^H$ as **_Moore–Penrose pseudoinverse_** of matrix $\\mathbf{A}$ and denote it as $\\mathbf{A}^+$. Then, we can write the solution in a very short form\n",
    "\n",
    "$$\\mathbf{x} = \\mathbf{A}^+\\mathbf{b}. $$"
   ]
  },
  {
   "cell_type": "markdown",
   "metadata": {
    "collapsed": true
   },
   "source": [
    "*Example:* Find a least-square solution for overdetermined system of linear equations given by\n",
    "\n",
    "\n",
    "$$ \\mathbf{A} = \n",
    "\\left(\\begin{array}{r}\n",
    "  1 & 0 & -1 & 2 \\\\\n",
    "  1 & 1 & 1 & -1  \\\\\n",
    "  0 & -1 & -2 & 3 \\\\\n",
    "  5 & 2 & -1 & 4 \\\\\n",
    "  -1 & 2 & 5 & 8 \n",
    "\\end{array}\\right),\n",
    "\\quad\n",
    "\\mathbf{b} = \n",
    "\\left(\\begin{array}{r}\n",
    "  -1 \\\\\n",
    "  2  \\\\\n",
    "  -3 \\\\\n",
    "  1 \\\\\n",
    "  7\n",
    "\\end{array}\\right),\n",
    "\\quad\n",
    "\\mathbf{x} = \n",
    "\\left(\\begin{array}{r}\n",
    "  x_1 \\\\\n",
    "  x_2  \\\\\n",
    "  x_3 \\\\\n",
    "  x_4\n",
    "\\end{array}\\right).$$\n"
   ]
  },
  {
   "cell_type": "code",
   "execution_count": 10,
   "metadata": {
    "collapsed": false
   },
   "outputs": [
    {
     "name": "stdout",
     "output_type": "stream",
     "text": [
      "[[ 1  0 -1  2]\n",
      " [ 1  1  1 -1]\n",
      " [ 0 -1 -2  3]\n",
      " [ 5  2 -1  4]\n",
      " [-1  2  5 -8]]\n",
      "n = 4\n",
      "rank(A) = 2\n"
     ]
    }
   ],
   "source": [
    "A = matrix('1 0 -1 2; 1 1 1 -1; 0 -1 -2 3; 5 2 -1 4; -1 2 5 -8')\n",
    "b = matrix('-1; 2; -3; 1; 7')\n",
    "n = A.shape[1]\n",
    "r = linalg.matrix_rank(A)\n",
    "print(A)\n",
    "print('n =', n)\n",
    "print('rank(A) =', r)"
   ]
  },
  {
   "cell_type": "markdown",
   "metadata": {},
   "source": [
    "We can see that rank of matrix $\\mathbf{A}$ is 2 which is lower than number of unknowns and it makes the matrix rank-deficient."
   ]
  },
  {
   "cell_type": "code",
   "execution_count": 11,
   "metadata": {
    "collapsed": false
   },
   "outputs": [
    {
     "name": "stdout",
     "output_type": "stream",
     "text": [
      "Singular values:\n",
      " [  1.15923770e+01   5.44213162e+00   1.18203515e-15   1.59830883e-16]\n",
      "\n",
      "Left-singular vectors:\n",
      " [[-0.20752001 -0.08477441  0.63436269  0.67966601]\n",
      " [ 0.09883702 -0.30122044 -0.70236176  0.63677741]\n",
      " [-0.30635703  0.21644603  0.06315979  0.25652062]\n",
      " [-0.424886   -0.85676412  0.07512664 -0.2510953 ]\n",
      " [ 0.82023408 -0.34811766  0.30763414  0.06096691]]\n",
      "\n",
      "Right-singular vectors:\n",
      " [[-0.26339267 -0.79411857 -0.52472245  0.15705526]\n",
      " [ 0.10316178 -0.53791974  0.81669201  0.18169801]\n",
      " [ 0.46971622 -0.28172091 -0.05921667 -0.83456179]\n",
      " [-0.83627066  0.02552208  0.23275289 -0.49580852]]\n",
      "\n",
      "Moore–Penrose pseudoinverse of A:\n",
      " [[ 0.01708543  0.04170854 -0.02462312  0.13467337  0.0321608 ]\n",
      " [ 0.00653266  0.03065327 -0.0241206   0.08090452  0.04170854]\n",
      " [-0.0040201   0.01959799 -0.02361809  0.02713568  0.05125628]\n",
      " [ 0.01457286 -0.00854271  0.02311558  0.02663317 -0.06080402]]\n",
      "\n",
      "Least-squares solution x:\n",
      " [[ 0.5]\n",
      " [ 0.5]\n",
      " [ 0.5]\n",
      " [-0.5]]\n",
      "\n",
      "Error of least-squares solution: ||b-A*x|| = 2.23152066184e-15\n"
     ]
    }
   ],
   "source": [
    "# SVD decomposition of matrix A\n",
    "U, σ, VH = linalg.svd(A, full_matrices=False)\n",
    "V = VH.H\n",
    "print('Singular values:\\n', σ)\n",
    "print('\\nLeft-singular vectors:\\n', U)\n",
    "print('\\nRight-singular vectors:\\n', V)\n",
    "\n",
    "# Moore–Penrose pseudoinverse\n",
    "sigma_inv = diag(hstack([1/σ[:r], zeros(n-r)]))\n",
    "A_plus = V * sigma_inv * U.H\n",
    "print('\\nMoore–Penrose pseudoinverse of A:\\n', A_plus)\n",
    "\n",
    "# Least-squares solution\n",
    "x = A_plus * b\n",
    "print('\\nLeast-squares solution x:\\n', x)\n",
    "\n",
    "# Error of solution ||b-A*x||\n",
    "eps = linalg.norm(b-A*x)\n",
    "print('\\nError of least-squares solution: ||b-A*x|| =', eps)"
   ]
  },
  {
   "cell_type": "markdown",
   "metadata": {},
   "source": [
    "So, using SVD decomposition and Moore-Penrose pseudoinverse matrix, we have found the least-squares solution\n",
    "\n",
    "$$ \\mathbf{x} =\n",
    "\\left(\\begin{array}{r}\n",
    "0.5\\\\  0.5\\\\  0.5\\\\ -0.5\n",
    "\\end{array}\\right).$$"
   ]
  },
  {
   "cell_type": "markdown",
   "metadata": {
    "collapsed": true
   },
   "source": [
    "We can also utilize some built-in methods from NumPy package. To compute Moore–Penrose pseudoinverse there is a method `numpy.linalg.pinv`."
   ]
  },
  {
   "cell_type": "code",
   "execution_count": 12,
   "metadata": {
    "collapsed": false
   },
   "outputs": [
    {
     "name": "stdout",
     "output_type": "stream",
     "text": [
      "Moore–Penrose pseudoinverse by NumPy:\n",
      " [[ 0.01708543  0.04170854 -0.02462312  0.13467337  0.0321608 ]\n",
      " [ 0.00653266  0.03065327 -0.0241206   0.08090452  0.04170854]\n",
      " [-0.0040201   0.01959799 -0.02361809  0.02713568  0.05125628]\n",
      " [ 0.01457286 -0.00854271  0.02311558  0.02663317 -0.06080402]]\n"
     ]
    }
   ],
   "source": [
    "print('Moore–Penrose pseudoinverse by NumPy:\\n', linalg.pinv(A))"
   ]
  },
  {
   "cell_type": "markdown",
   "metadata": {},
   "source": [
    "NumPy has even a method `numpy.linalg.lstsq` to compute a least-squares solution for any linear system that may be under-, well-, or over- determined."
   ]
  },
  {
   "cell_type": "code",
   "execution_count": 13,
   "metadata": {
    "collapsed": false
   },
   "outputs": [
    {
     "name": "stdout",
     "output_type": "stream",
     "text": [
      "Least-squares solution by NumPy:\n",
      " [[ 0.5]\n",
      " [ 0.5]\n",
      " [ 0.5]\n",
      " [-0.5]]\n"
     ]
    }
   ],
   "source": [
    "print('Least-squares solution by NumPy:\\n', linalg.lstsq(A,b)[0])"
   ]
  },
  {
   "cell_type": "markdown",
   "metadata": {},
   "source": [
    "## 5 Conclusion\n",
    "\n",
    "As we can see, Python and NumPy package can be successfully used even for some advanced tasks from linear algebra. Also, the Jupyter notebook offers a truly convenient way to write mathematical description and test live code for various numerical methods.\n",
    "\n"
   ]
  },
  {
   "cell_type": "markdown",
   "metadata": {},
   "source": [
    "### References\n",
    "\n",
    "- [Linear systems](https://en.wikipedia.org/wiki/System_of_linear_equations)\n",
    "- [Overdetermined systems](https://en.wikipedia.org/wiki/Overdetermined_system)\n",
    "- [Eigenvalues and eigenvectors](https://en.wikipedia.org/wiki/Eigenvalues_and_eigenvectors)\n",
    "- [Spectral decomposition](https://en.wikipedia.org/wiki/Eigendecomposition_of_a_matrix)\n",
    "- [Singular value decomposition](https://en.wikipedia.org/wiki/Singular_value_decomposition)\n",
    "- [Moore–Penrose pseudoinverse](https://en.wikipedia.org/wiki/Moore%E2%80%93Penrose_pseudoinverse)\n",
    "\n",
    "\n",
    "- [NumPy documentation](http://docs.scipy.org/doc/numpy/)\n",
    "- [NumPy for Matlab users](https://docs.scipy.org/doc/numpy-dev/user/numpy-for-matlab-users.html)\n",
    "- [Matplotlib documentation](http://matplotlib.org/)\n",
    "\n"
   ]
  }
 ],
 "metadata": {
  "kernelspec": {
   "display_name": "Python 3",
   "language": "python",
   "name": "python3"
  },
  "language_info": {
   "codemirror_mode": {
    "name": "ipython",
    "version": 3
   },
   "file_extension": ".py",
   "mimetype": "text/x-python",
   "name": "python",
   "nbconvert_exporter": "python",
   "pygments_lexer": "ipython3",
   "version": "3.5.2"
  },
  "latex_envs": {
   "bibliofile": "biblio.bib",
   "cite_by": "apalike",
   "current_citInitial": 1,
   "eqLabelWithNumbers": true,
   "eqNumInitial": 0
  },
  "nikola": {
   "category": "scientific-computing",
   "date": "2016-07-12 16:42:00 UTC+02:00",
   "description": "",
   "link": "",
   "slug": "linear-algebra-with-python-and-numpy-2",
   "tags": "python, jupyter, mathematics, linear-algebra",
   "title": "Linear Algebra with Python and NumPy (II)",
   "type": "text"
  }
 },
 "nbformat": 4,
 "nbformat_minor": 0
}
